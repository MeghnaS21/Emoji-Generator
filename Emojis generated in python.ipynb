{
 "cells": [
  {
   "cell_type": "code",
   "execution_count": 1,
   "metadata": {},
   "outputs": [],
   "source": [
    "import emoji"
   ]
  },
  {
   "cell_type": "code",
   "execution_count": 4,
   "metadata": {},
   "outputs": [
    {
     "name": "stdout",
     "output_type": "stream",
     "text": [
      "😃\n"
     ]
    }
   ],
   "source": [
    "print(emoji.emojize(\":grinning_face_with_big_eyes:\"))"
   ]
  },
  {
   "cell_type": "code",
   "execution_count": 7,
   "metadata": {},
   "outputs": [
    {
     "name": "stdout",
     "output_type": "stream",
     "text": [
      "😗\n"
     ]
    }
   ],
   "source": [
    "print(emoji.emojize(\":kissing_face:\"))"
   ]
  },
  {
   "cell_type": "code",
   "execution_count": 9,
   "metadata": {},
   "outputs": [
    {
     "name": "stdout",
     "output_type": "stream",
     "text": [
      "❤️\n"
     ]
    }
   ],
   "source": [
    "print(emoji.emojize(\":red_heart:\",variant=\"emoji_type\"))"
   ]
  },
  {
   "cell_type": "code",
   "execution_count": 11,
   "metadata": {},
   "outputs": [
    {
     "name": "stdout",
     "output_type": "stream",
     "text": [
      "🙂️\n"
     ]
    }
   ],
   "source": [
    "print(emoji.emojize(\":slightly_smiling_face:\",variant=\"emoji_type\"))"
   ]
  },
  {
   "cell_type": "code",
   "execution_count": 12,
   "metadata": {},
   "outputs": [
    {
     "name": "stdout",
     "output_type": "stream",
     "text": [
      "😉️\n"
     ]
    }
   ],
   "source": [
    "print(emoji.emojize(\":winking_face:\",variant=\"emoji_type\"))"
   ]
  },
  {
   "cell_type": "code",
   "execution_count": 16,
   "metadata": {},
   "outputs": [
    {
     "name": "stdout",
     "output_type": "stream",
     "text": [
      "😷️\n",
      "🤒️\n",
      "😘️\n",
      "😍️\n"
     ]
    }
   ],
   "source": [
    "print(emoji.emojize(\":face_with_medical_mask:\",variant=\"emoji_type\"))\n",
    "print(emoji.emojize(\":face_with_thermometer:\",variant=\"emoji_type\"))\n",
    "print(emoji.emojize(\":face_blowing_a_kiss:\",variant=\"emoji_type\"))\n",
    "print(emoji.emojize(\":smiling_face_with_heart-eyes:\",variant=\"emoji_type\"))"
   ]
  },
  {
   "cell_type": "code",
   "execution_count": 18,
   "metadata": {},
   "outputs": [
    {
     "name": "stdout",
     "output_type": "stream",
     "text": [
      "😃️\n",
      "😂️\n",
      "🙃️\n",
      "🤑️\n"
     ]
    }
   ],
   "source": [
    "print(emoji.emojize(\":grinning_face_with_big_eyes:\",variant=\"emoji_type\"))\n",
    "print(emoji.emojize(\":face_with_tears_of_joy:\",variant=\"emoji_type\"))\n",
    "print(emoji.emojize(\":upside-down_face:\",variant=\"emoji_type\"))\n",
    "print(emoji.emojize(\":money-mouth_face:\",variant=\"emoji_type\"))"
   ]
  },
  {
   "cell_type": "code",
   "execution_count": 19,
   "metadata": {},
   "outputs": [
    {
     "name": "stdout",
     "output_type": "stream",
     "text": [
      "🤗️\n",
      "🤐️\n",
      "😌️\n",
      "🤤️\n"
     ]
    }
   ],
   "source": [
    "print(emoji.emojize(\":hugging_face:\",variant=\"emoji_type\"))\n",
    "print(emoji.emojize(\":zipper-mouth_face:\",variant=\"emoji_type\"))\n",
    "print(emoji.emojize(\":relieved_face:\",variant=\"emoji_type\"))\n",
    "print(emoji.emojize(\":drooling_face:\",variant=\"emoji_type\"))"
   ]
  },
  {
   "cell_type": "code",
   "execution_count": null,
   "metadata": {},
   "outputs": [],
   "source": []
  }
 ],
 "metadata": {
  "kernelspec": {
   "display_name": "Python 3",
   "language": "python",
   "name": "python3"
  },
  "language_info": {
   "codemirror_mode": {
    "name": "ipython",
    "version": 3
   },
   "file_extension": ".py",
   "mimetype": "text/x-python",
   "name": "python",
   "nbconvert_exporter": "python",
   "pygments_lexer": "ipython3",
   "version": "3.7.3"
  }
 },
 "nbformat": 4,
 "nbformat_minor": 2
}
